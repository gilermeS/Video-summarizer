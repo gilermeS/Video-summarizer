{
 "cells": [
  {
   "cell_type": "code",
   "execution_count": 20,
   "id": "08912487",
   "metadata": {},
   "outputs": [],
   "source": [
    "import yt_dlp\n",
    "import whisper\n",
    "import config\n"
   ]
  },
  {
   "cell_type": "code",
   "execution_count": 21,
   "id": "bb15482f",
   "metadata": {},
   "outputs": [],
   "source": [
    "\n",
    "def download_youtube_audio(url, output_path=\"audio.mp3\"):\n",
    "\n",
    "\tydl_opts = {\n",
    "\t\t'format': 'bestaudio/best',\n",
    "\t\t'postprocessors': [{\n",
    "\t\t\t'key': 'FFmpegExtractAudio',\n",
    "\t\t\t'preferredcodec': 'mp3',\n",
    "\t\t\t'preferredquality': '192',\n",
    "\t\t}],\n",
    "\t\t'outtmpl': output_path.replace('.mp3', '.%(ext)s'),\n",
    "\t\t'quiet': True,\n",
    "\t\t'ffmpeg_location': config.ff_path,\n",
    "\t}\n",
    "\n",
    "\twith yt_dlp.YoutubeDL(ydl_opts) as ydl:\n",
    "\n",
    "\t\tinfo = ydl.extract_info(url, download=True)\n",
    "\t\tfilename = ydl.prepare_filename(info).replace(\".webm\", \".mp3\").replace(\".m4a\", \".mp3\")\n",
    "\n",
    "\n",
    "\treturn filename\n"
   ]
  },
  {
   "cell_type": "code",
   "execution_count": 22,
   "id": "9ef24174",
   "metadata": {},
   "outputs": [
    {
     "name": "stdout",
     "output_type": "stream",
     "text": [
      "                                                           \r"
     ]
    },
    {
     "data": {
      "text/plain": [
       "'audio.mp3'"
      ]
     },
     "execution_count": 22,
     "metadata": {},
     "output_type": "execute_result"
    }
   ],
   "source": [
    "po = \"https://www.youtube.com/watch?v=uCgm9Hwv0u0\"\n",
    "helo = 'https://www.youtube.com/watch?v=WnNu_oFNzCY'\n",
    "\n",
    "\n",
    "download_youtube_audio(helo)\n"
   ]
  },
  {
   "cell_type": "code",
   "execution_count": 27,
   "id": "9ebdcebf",
   "metadata": {},
   "outputs": [],
   "source": [
    "\n",
    "model = whisper.load_model(\"base\")\n",
    "\n",
    "result = model.transcribe(\"audio.mp3\", fp16=False)\n"
   ]
  },
  {
   "cell_type": "code",
   "execution_count": 28,
   "id": "69fa48d0",
   "metadata": {},
   "outputs": [
    {
     "name": "stdout",
     "output_type": "stream",
     "text": [
      " Hello Hello\n"
     ]
    }
   ],
   "source": [
    "print(result[\"text\"])"
   ]
  }
 ],
 "metadata": {
  "kernelspec": {
   "display_name": "deep",
   "language": "python",
   "name": "python3"
  },
  "language_info": {
   "codemirror_mode": {
    "name": "ipython",
    "version": 3
   },
   "file_extension": ".py",
   "mimetype": "text/x-python",
   "name": "python",
   "nbconvert_exporter": "python",
   "pygments_lexer": "ipython3",
   "version": "3.9.20"
  }
 },
 "nbformat": 4,
 "nbformat_minor": 5
}

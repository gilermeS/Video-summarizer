{
 "cells": [
  {
   "cell_type": "code",
   "execution_count": 2,
   "id": "08912487",
   "metadata": {},
   "outputs": [],
   "source": [
    "import yt_dlp\n",
    "import whisper\n",
    "import config\n"
   ]
  },
  {
   "cell_type": "code",
   "execution_count": 3,
   "id": "bb15482f",
   "metadata": {},
   "outputs": [],
   "source": [
    "\n",
    "def download_youtube_audio(url, output_path=\"audio.mp3\"):\n",
    "\n",
    "\tydl_opts = {\n",
    "\t\t'format': 'bestaudio/best',\n",
    "\t\t'postprocessors': [{\n",
    "\t\t\t'key': 'FFmpegExtractAudio',\n",
    "\t\t\t'preferredcodec': 'mp3',\n",
    "\t\t\t'preferredquality': '192',\n",
    "\t\t}],\n",
    "\t\t'outtmpl': output_path.replace('.mp3', '.%(ext)s'),\n",
    "\t\t'quiet': True,\n",
    "\t\t'ffmpeg_location': config.ff_path,\n",
    "\t}\n",
    "\n",
    "\twith yt_dlp.YoutubeDL(ydl_opts) as ydl:\n",
    "\n",
    "\t\tinfo = ydl.extract_info(url, download=True)\n",
    "\t\tfilename = ydl.prepare_filename(info).replace(\".webm\", \".mp3\").replace(\".m4a\", \".mp3\")\n",
    "\n",
    "\n",
    "\treturn filename\n"
   ]
  },
  {
   "cell_type": "code",
   "execution_count": 4,
   "id": "9ef24174",
   "metadata": {},
   "outputs": [
    {
     "name": "stdout",
     "output_type": "stream",
     "text": [
      "                                                         \r"
     ]
    }
   ],
   "source": [
    "po = \"https://www.youtube.com/watch?v=uCgm9Hwv0u0\"\n",
    "helo = 'https://www.youtube.com/watch?v=WnNu_oFNzCY'\n",
    "\n",
    "realoficial = 'https://www.youtube.com/shorts/jzpHha1RKws'\n",
    "\n",
    "\n",
    "asda = download_youtube_audio(realoficial)\n"
   ]
  },
  {
   "cell_type": "code",
   "execution_count": 5,
   "id": "9ebdcebf",
   "metadata": {},
   "outputs": [],
   "source": [
    "\n",
    "model = whisper.load_model(\"base\")\n",
    "\n",
    "result = model.transcribe(asda, fp16=False)\n"
   ]
  },
  {
   "cell_type": "code",
   "execution_count": 6,
   "id": "69fa48d0",
   "metadata": {},
   "outputs": [
    {
     "name": "stdout",
     "output_type": "stream",
     "text": [
      " What really happened to Lucerus' body? According to the dwarf Mushroom's testimony, the body of Lucerus' Valarion, washed ashore beneath the cliffs below Storm's End, along with the head and neck of his dragon, Arachs. Mushroom claims that Prince Aemond Targaryen cut out the boy's eyes and presented them on a bed of seaweed to Maris Baratheon. Other accounts state that Lucerus was snatched up by Vega, who subsequently swallowed him. Yet other accounts claim that Lucerus survived the fall, swam ashore, but suffered from amnesia, and lived the rest of his life as a simple-minded fisherman. In his true telling, Munkin claims that Lucerus died with his dragon, a fact with which Arkmyster Gildane agrees, asserting that Lucerus' body was never found. However, one thing was certain. With Luke's death, the dance of the dragons was no longer a matter of diplomacy, but began a war of fire and blood.\n"
     ]
    }
   ],
   "source": [
    "print(result[\"text\"])"
   ]
  },
  {
   "cell_type": "code",
   "execution_count": null,
   "id": "a5bee59c",
   "metadata": {},
   "outputs": [],
   "source": []
  }
 ],
 "metadata": {
  "kernelspec": {
   "display_name": "resum",
   "language": "python",
   "name": "python3"
  },
  "language_info": {
   "codemirror_mode": {
    "name": "ipython",
    "version": 3
   },
   "file_extension": ".py",
   "mimetype": "text/x-python",
   "name": "python",
   "nbconvert_exporter": "python",
   "pygments_lexer": "ipython3",
   "version": "3.13.2"
  }
 },
 "nbformat": 4,
 "nbformat_minor": 5
}
